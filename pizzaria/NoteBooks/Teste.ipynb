{
 "cells": [
  {
   "cell_type": "code",
   "execution_count": 1,
   "id": "a6b67001",
   "metadata": {},
   "outputs": [
    {
     "name": "stdout",
     "output_type": "stream",
     "text": [
      "Done!\n"
     ]
    }
   ],
   "source": [
    "import sys\n",
    "\n",
    "# define a raiz do projeto par aser possivel importar os modulos\\n\",\n",
    "sys.path.append(\"../../src\"),\n",
    "\n",
    "def restart_django():\n",
    "    import os\n",
    "    import sys\n",
    "    import django\n",
    "    # define a raiz do projeto par aser possivel importar os modulos\\n\",\n",
    "    sys.path.append(\"../\")\n",
    "\n",
    "    # configura o ambiente\\n\",\n",
    "    os.environ.setdefault(\"DJANGO_SETTINGS_MODULE\", \"pizzaria.settings\")\n",
    "    os.environ[\"DJANGO_ALLOW_ASYNC_UNSAFE\"] = \"true\"\n",
    "    django.setup()\n",
    "\n",
    "\n",
    "restart_django()\n",
    "from Pizzaria_Mamma_Mia.models import *\n",
    "print(\"Done!\")"
   ]
  },
  {
   "cell_type": "code",
   "execution_count": 6,
   "id": "f3082b1d",
   "metadata": {},
   "outputs": [
    {
     "name": "stdout",
     "output_type": "stream",
     "text": [
      "[<PedidoBebida: Suco Del Vale Fresh Laranja Pet 1,5L>, <PedidoBebida: Água com gás Crystal 500ml>]\n",
      "Suco Del Vale Fresh Laranja Pet 1,5L qtd:1\n",
      "Água com gás Crystal 500ml qtd:2\n"
     ]
    }
   ],
   "source": [
    "cart_user, created = Carrinho.objects.get_or_create(user=1, completo=False)\n",
    "lst_bebidas = list(cart_user.cartBebidas.all())\n",
    "print(lst_bebidas)\n",
    "for item in lst_bebidas:\n",
    "    print(f\"{item.item.nome} qtd:{item.quantidade}\")"
   ]
  },
  {
   "cell_type": "code",
   "execution_count": 2,
   "id": "4be68562",
   "metadata": {},
   "outputs": [
    {
     "name": "stdout",
     "output_type": "stream",
     "text": [
      "1 usuário: 12345678900 False\n",
      "83.76\n",
      "1\n"
     ]
    }
   ],
   "source": [
    "cart_user, created = Carrinho.objects.get_or_create(user=1, completo=False)\n",
    "total = cart_user.preco_total\n",
    "cart_id = cart_user.id\n",
    "print(cart_user)\n",
    "print(total)\n",
    "print(cart_id)"
   ]
  },
  {
   "cell_type": "code",
   "execution_count": 14,
   "id": "ab01aa6b",
   "metadata": {},
   "outputs": [
    {
     "name": "stdout",
     "output_type": "stream",
     "text": [
      "{'nome': 'Margheritagigante', 'imagem': '', 'tamanho': 'gigante', 'ingredientes': ['Molho de tomate', 'Queijo mussarela', 'Folhas frescas de manjericão', 'Azeite de oliva extra virgem']}\n",
      "{'nome': 'Margheritagrande', 'imagem': '', 'tamanho': 'grande', 'ingredientes': ['Molho de tomate', 'Queijo mussarela', 'Folhas frescas de manjericão', 'Azeite de oliva extra virgem']}\n",
      "{'nome': 'Margheritamedia', 'imagem': '', 'tamanho': 'media', 'ingredientes': ['Molho de tomate', 'Queijo mussarela', 'Folhas frescas de manjericão', 'Azeite de oliva extra virgem']}\n",
      "{'nome': 'Pepperonigigante', 'imagem': '', 'tamanho': 'gigante', 'ingredientes': ['Molho de tomate', 'Queijo mussarela', 'Pepperoni fatiado (salame picante)']}\n",
      "{'nome': 'Pepperonigrande', 'imagem': '', 'tamanho': 'grande', 'ingredientes': ['Molho de tomate', 'Queijo mussarela', 'Pepperoni fatiado (salame picante)']}\n",
      "{'nome': 'Pepperonimedia', 'imagem': '', 'tamanho': 'media', 'ingredientes': ['Molho de tomate', 'Queijo mussarela', 'Pepperoni fatiado (salame picante)']}\n",
      "{'nome': 'Quatro Queijosgigante', 'imagem': '', 'tamanho': 'gigante', 'ingredientes': ['Molho de tomate', 'Queijo mussarela', 'Queijo gorgonzola', 'Queijo provolone', 'Queijo parmesão ralado']}\n",
      "{'nome': 'Quatro Queijosgrande', 'imagem': '', 'tamanho': 'grande', 'ingredientes': ['Molho de tomate', 'Queijo mussarela', 'Queijo gorgonzola', 'Queijo provolone', 'Queijo parmesão ralado']}\n",
      "{'nome': 'Quatro Queijosmedia', 'imagem': '', 'tamanho': 'media', 'ingredientes': ['Molho de tomate', 'Queijo mussarela', 'Queijo gorgonzola', 'Queijo provolone', 'Queijo parmesão ralado']}\n",
      "{'nome': 'Calabresagigante', 'imagem': '', 'tamanho': 'gigante', 'ingredientes': ['Molho de tomate', 'Queijo mussarela', 'Calabresa fatiada', 'Cebola fatiada']}\n",
      "{'nome': 'Calabresagrande', 'imagem': '', 'tamanho': 'grande', 'ingredientes': ['Molho de tomate', 'Queijo mussarela', 'Calabresa fatiada', 'Cebola fatiada']}\n",
      "{'nome': 'Calabresamedia', 'imagem': '', 'tamanho': 'media', 'ingredientes': ['Molho de tomate', 'Queijo mussarela', 'Calabresa fatiada', 'Cebola fatiada']}\n",
      "{'nome': 'Frango com Catupirygigante', 'imagem': '', 'tamanho': 'gigante', 'ingredientes': ['Molho de tomate', 'Queijo mussarela', 'Frango desfiado temperado', 'Catupiry (queijo cremoso)']}\n",
      "{'nome': 'Frango com Catupirygrande', 'imagem': '', 'tamanho': 'grande', 'ingredientes': ['Molho de tomate', 'Queijo mussarela', 'Frango desfiado temperado', 'Catupiry (queijo cremoso)']}\n",
      "{'nome': 'Frango com Catupirymedia', 'imagem': '', 'tamanho': 'media', 'ingredientes': ['Molho de tomate', 'Queijo mussarela', 'Frango desfiado temperado', 'Catupiry (queijo cremoso)']}\n",
      "{'nome': 'Portuguesagigante', 'imagem': '', 'tamanho': 'gigante', 'ingredientes': ['Molho de tomate', 'Queijo mussarela', 'Presunto fatiado', 'Ovos', 'Cebola fatiada', 'Pimentão fatiado', 'Azeitonas']}\n",
      "{'nome': 'Portuguesagrande', 'imagem': '', 'tamanho': 'grande', 'ingredientes': ['Molho de tomate', 'Queijo mussarela', 'Presunto fatiado', 'Ovos', 'Cebola fatiada', 'Pimentão fatiado', 'Azeitonas']}\n",
      "{'nome': 'Portuguesamedia', 'imagem': '', 'tamanho': 'media', 'ingredientes': ['Molho de tomate', 'Queijo mussarela', 'Presunto fatiado', 'Ovos', 'Cebola fatiada', 'Pimentão fatiado', 'Azeitonas']}\n",
      "{'nome': 'Vegetarianagigante', 'imagem': '', 'tamanho': 'gigante', 'ingredientes': ['Molho de tomate', 'Queijo mussarela', 'Tomate fatiado', 'Cebola fatiada', 'Pimentão fatiado', 'Champignon fatiado', 'Azeitonas']}\n",
      "{'nome': 'Vegetarianagrande', 'imagem': '', 'tamanho': 'grande', 'ingredientes': ['Molho de tomate', 'Queijo mussarela', 'Tomate fatiado', 'Cebola fatiada', 'Pimentão fatiado', 'Champignon fatiado', 'Azeitonas']}\n",
      "{'nome': 'Vegetarianamedia', 'imagem': '', 'tamanho': 'media', 'ingredientes': ['Molho de tomate', 'Queijo mussarela', 'Tomate fatiado', 'Cebola fatiada', 'Pimentão fatiado', 'Champignon fatiado', 'Azeitonas']}\n",
      "{'nome': 'Capresegigante', 'imagem': '', 'tamanho': 'gigante', 'ingredientes': ['Molho de tomate', 'Queijo mussarela', 'Tomate fatiado', 'Folhas frescas de manjericão', 'Azeite de oliva extra virgem', 'Pimenta-do-reino']}\n",
      "{'nome': 'Capresegrande', 'imagem': '', 'tamanho': 'grande', 'ingredientes': ['Molho de tomate', 'Queijo mussarela', 'Tomate fatiado', 'Folhas frescas de manjericão', 'Azeite de oliva extra virgem', 'Pimenta-do-reino']}\n",
      "{'nome': 'Capresemedia', 'imagem': '', 'tamanho': 'media', 'ingredientes': ['Molho de tomate', 'Queijo mussarela', 'Tomate fatiado', 'Folhas frescas de manjericão', 'Azeite de oliva extra virgem', 'Pimenta-do-reino']}\n"
     ]
    }
   ],
   "source": [
    "def dadosPizza():    \n",
    "    lst_pizzas = Pizza.objects.all().values(\"id\", \"nome\", \"imagem\", \"tamanho__tamanho\", \"composicao__fk_ingredientes__nome\")\n",
    "    out = []\n",
    "    lst_id = []\n",
    "    # manipula produções para retornar autores de uma mesma produção\n",
    "    for obj in lst_pizzas:\n",
    "        if obj['id'] in lst_id:\n",
    "            index = lst_id.index(obj['id'])\n",
    "            out[index]['ingredientes'].append(obj['composicao__fk_ingredientes__nome'])\n",
    "        else:\n",
    "            lst_id.append(obj['id'])\n",
    "            out.append(\n",
    "                {\n",
    "                    'nome': obj['nome'],\n",
    "                    'imagem': obj['imagem'],\n",
    "                    'tamanho': obj['tamanho__tamanho'],\n",
    "                    'ingredientes': [obj['composicao__fk_ingredientes__nome']]\n",
    "                }\n",
    "            )\n",
    "    return out\n",
    "\n",
    "for o in dadosPizza():\n",
    "    print(o)"
   ]
  },
  {
   "cell_type": "code",
   "execution_count": 4,
   "id": "3fa13156",
   "metadata": {},
   "outputs": [
    {
     "name": "stdout",
     "output_type": "stream",
     "text": [
      "12 usuário: 12345678900 False\n",
      "Refrigerante Guaraná Antarctica Pet 2L\n"
     ]
    },
    {
     "data": {
      "text/plain": [
       "(1, {'Pizzaria_Mamma_Mia.PedidoBebida': 1})"
      ]
     },
     "execution_count": 4,
     "metadata": {},
     "output_type": "execute_result"
    }
   ],
   "source": [
    "cart, created = Carrinho.objects.get_or_create(user=1, completo=False)\n",
    "print(cart)\n",
    "item = cart.cartBebidas.get(id=8)\n",
    "print(item)\n",
    "item.delete()"
   ]
  },
  {
   "cell_type": "code",
   "execution_count": 12,
   "id": "55956327",
   "metadata": {},
   "outputs": [
    {
     "name": "stdout",
     "output_type": "stream",
     "text": [
      "3\n",
      "245.97\n",
      "<QuerySet [<PedidoPizza: Pepperoni>]>\n"
     ]
    }
   ],
   "source": [
    "cart, created = Carrinho.objects.get_or_create(user=1, completo=False)\n",
    "print(cart.quantidade_total)\n",
    "print(cart.preco_total)\n",
    "print(cart.cartPizzas.all())"
   ]
  },
  {
   "cell_type": "code",
   "execution_count": 2,
   "id": "06c401c2",
   "metadata": {},
   "outputs": [
    {
     "name": "stdout",
     "output_type": "stream",
     "text": [
      "{'id': 1, 'nome': 'Margherita', 'imagem': 'pizza-margherita.png', 'composicao__fk_ingrediente__nome': 'Molho de tomate'}\n",
      "{'id': 1, 'nome': 'Margherita', 'imagem': 'pizza-margherita.png', 'composicao__fk_ingrediente__nome': 'Queijo mussarela'}\n",
      "{'id': 1, 'nome': 'Margherita', 'imagem': 'pizza-margherita.png', 'composicao__fk_ingrediente__nome': 'Folhas frescas de manjericão'}\n",
      "{'id': 1, 'nome': 'Margherita', 'imagem': 'pizza-margherita.png', 'composicao__fk_ingrediente__nome': 'Azeite de oliva extra virgem'}\n",
      "{'id': 2, 'nome': 'Pepperoni', 'imagem': 'pepperoni.jpg', 'composicao__fk_ingrediente__nome': 'Molho de tomate'}\n",
      "{'id': 2, 'nome': 'Pepperoni', 'imagem': 'pepperoni.jpg', 'composicao__fk_ingrediente__nome': 'Queijo mussarela'}\n",
      "{'id': 2, 'nome': 'Pepperoni', 'imagem': 'pepperoni.jpg', 'composicao__fk_ingrediente__nome': 'Pepperoni fatiado (salame picante)'}\n",
      "{'id': 3, 'nome': 'Quatro Queijos', 'imagem': 'QuatroQueijos.jpg', 'composicao__fk_ingrediente__nome': 'Molho de tomate'}\n",
      "{'id': 3, 'nome': 'Quatro Queijos', 'imagem': 'QuatroQueijos.jpg', 'composicao__fk_ingrediente__nome': 'Queijo mussarela'}\n",
      "{'id': 3, 'nome': 'Quatro Queijos', 'imagem': 'QuatroQueijos.jpg', 'composicao__fk_ingrediente__nome': 'Queijo gorgonzola'}\n",
      "{'id': 3, 'nome': 'Quatro Queijos', 'imagem': 'QuatroQueijos.jpg', 'composicao__fk_ingrediente__nome': 'Queijo provolone'}\n",
      "{'id': 3, 'nome': 'Quatro Queijos', 'imagem': 'QuatroQueijos.jpg', 'composicao__fk_ingrediente__nome': 'Queijo parmesão ralado'}\n",
      "{'id': 4, 'nome': 'Calabresa', 'imagem': 'calabresa.jpg', 'composicao__fk_ingrediente__nome': 'Molho de tomate'}\n",
      "{'id': 4, 'nome': 'Calabresa', 'imagem': 'calabresa.jpg', 'composicao__fk_ingrediente__nome': 'Queijo mussarela'}\n",
      "{'id': 4, 'nome': 'Calabresa', 'imagem': 'calabresa.jpg', 'composicao__fk_ingrediente__nome': 'Calabresa fatiada'}\n",
      "{'id': 4, 'nome': 'Calabresa', 'imagem': 'calabresa.jpg', 'composicao__fk_ingrediente__nome': 'Cebola fatiada'}\n",
      "{'id': 5, 'nome': 'Frango com Catupiry', 'imagem': 'frangoCatupiry.jpg', 'composicao__fk_ingrediente__nome': 'Molho de tomate'}\n",
      "{'id': 5, 'nome': 'Frango com Catupiry', 'imagem': 'frangoCatupiry.jpg', 'composicao__fk_ingrediente__nome': 'Queijo mussarela'}\n",
      "{'id': 5, 'nome': 'Frango com Catupiry', 'imagem': 'frangoCatupiry.jpg', 'composicao__fk_ingrediente__nome': 'Frango desfiado temperado'}\n",
      "{'id': 5, 'nome': 'Frango com Catupiry', 'imagem': 'frangoCatupiry.jpg', 'composicao__fk_ingrediente__nome': 'Catupiry (queijo cremoso)'}\n",
      "{'id': 6, 'nome': 'Portuguesa', 'imagem': 'portuguesa.jpg', 'composicao__fk_ingrediente__nome': 'Molho de tomate'}\n",
      "{'id': 6, 'nome': 'Portuguesa', 'imagem': 'portuguesa.jpg', 'composicao__fk_ingrediente__nome': 'Queijo mussarela'}\n",
      "{'id': 6, 'nome': 'Portuguesa', 'imagem': 'portuguesa.jpg', 'composicao__fk_ingrediente__nome': 'Presunto fatiado'}\n",
      "{'id': 6, 'nome': 'Portuguesa', 'imagem': 'portuguesa.jpg', 'composicao__fk_ingrediente__nome': 'Ovos'}\n",
      "{'id': 6, 'nome': 'Portuguesa', 'imagem': 'portuguesa.jpg', 'composicao__fk_ingrediente__nome': 'Cebola fatiada'}\n",
      "{'id': 6, 'nome': 'Portuguesa', 'imagem': 'portuguesa.jpg', 'composicao__fk_ingrediente__nome': 'Pimentão fatiado'}\n",
      "{'id': 6, 'nome': 'Portuguesa', 'imagem': 'portuguesa.jpg', 'composicao__fk_ingrediente__nome': 'Azeitonas'}\n",
      "{'id': 7, 'nome': 'Vegetariana', 'imagem': 'vegetariana.png', 'composicao__fk_ingrediente__nome': 'Molho de tomate'}\n",
      "{'id': 7, 'nome': 'Vegetariana', 'imagem': 'vegetariana.png', 'composicao__fk_ingrediente__nome': 'Queijo mussarela'}\n",
      "{'id': 7, 'nome': 'Vegetariana', 'imagem': 'vegetariana.png', 'composicao__fk_ingrediente__nome': 'Tomate fatiado'}\n",
      "{'id': 7, 'nome': 'Vegetariana', 'imagem': 'vegetariana.png', 'composicao__fk_ingrediente__nome': 'Cebola fatiada'}\n",
      "{'id': 7, 'nome': 'Vegetariana', 'imagem': 'vegetariana.png', 'composicao__fk_ingrediente__nome': 'Pimentão fatiado'}\n",
      "{'id': 7, 'nome': 'Vegetariana', 'imagem': 'vegetariana.png', 'composicao__fk_ingrediente__nome': 'Champignon fatiado'}\n",
      "{'id': 7, 'nome': 'Vegetariana', 'imagem': 'vegetariana.png', 'composicao__fk_ingrediente__nome': 'Azeitonas'}\n",
      "{'id': 8, 'nome': 'Caprese', 'imagem': 'caprese.png', 'composicao__fk_ingrediente__nome': 'Molho de tomate'}\n",
      "{'id': 8, 'nome': 'Caprese', 'imagem': 'caprese.png', 'composicao__fk_ingrediente__nome': 'Queijo mussarela'}\n",
      "{'id': 8, 'nome': 'Caprese', 'imagem': 'caprese.png', 'composicao__fk_ingrediente__nome': 'Tomate fatiado'}\n",
      "{'id': 8, 'nome': 'Caprese', 'imagem': 'caprese.png', 'composicao__fk_ingrediente__nome': 'Folhas frescas de manjericão'}\n",
      "{'id': 8, 'nome': 'Caprese', 'imagem': 'caprese.png', 'composicao__fk_ingrediente__nome': 'Azeite de oliva extra virgem'}\n",
      "{'id': 8, 'nome': 'Caprese', 'imagem': 'caprese.png', 'composicao__fk_ingrediente__nome': 'Pimenta-do-reino'}\n",
      "{'id': 9, 'nome': 'À Moda', 'imagem': 'a_moda.png', 'composicao__fk_ingrediente__nome': 'Molho de tomate'}\n",
      "{'id': 9, 'nome': 'À Moda', 'imagem': 'a_moda.png', 'composicao__fk_ingrediente__nome': 'Queijo mussarela'}\n",
      "{'id': 9, 'nome': 'À Moda', 'imagem': 'a_moda.png', 'composicao__fk_ingrediente__nome': 'Calabresa fatiada'}\n",
      "{'id': 9, 'nome': 'À Moda', 'imagem': 'a_moda.png', 'composicao__fk_ingrediente__nome': 'Cebola fatiada'}\n",
      "{'id': 9, 'nome': 'À Moda', 'imagem': 'a_moda.png', 'composicao__fk_ingrediente__nome': 'Orégano'}\n",
      "{'id': 9, 'nome': 'À Moda', 'imagem': 'a_moda.png', 'composicao__fk_ingrediente__nome': 'Azeitonas'}\n",
      "{'id': 10, 'nome': 'Napolitana', 'imagem': 'napolitana.jpg', 'composicao__fk_ingrediente__nome': 'Molho de tomate'}\n",
      "{'id': 10, 'nome': 'Napolitana', 'imagem': 'napolitana.jpg', 'composicao__fk_ingrediente__nome': 'Queijo mussarela'}\n",
      "{'id': 10, 'nome': 'Napolitana', 'imagem': 'napolitana.jpg', 'composicao__fk_ingrediente__nome': 'Folhas frescas de manjericão'}\n",
      "{'id': 10, 'nome': 'Napolitana', 'imagem': 'napolitana.jpg', 'composicao__fk_ingrediente__nome': 'Azeite de oliva extra virgem'}\n"
     ]
    }
   ],
   "source": [
    "lst_sabores = Sabor.objects.all().values(\"id\", \"nome\", \"imagem\", \"composicao__fk_ingrediente__nome\")\n",
    "for o in lst_sabores:\n",
    "    print(o)"
   ]
  }
 ],
 "metadata": {
  "kernelspec": {
   "display_name": "Python 3 (ipykernel)",
   "language": "python",
   "name": "python3"
  },
  "language_info": {
   "codemirror_mode": {
    "name": "ipython",
    "version": 3
   },
   "file_extension": ".py",
   "mimetype": "text/x-python",
   "name": "python",
   "nbconvert_exporter": "python",
   "pygments_lexer": "ipython3",
   "version": "3.11.2"
  }
 },
 "nbformat": 4,
 "nbformat_minor": 5
}
