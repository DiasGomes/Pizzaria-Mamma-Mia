{
 "cells": [
  {
   "cell_type": "code",
   "execution_count": 3,
   "id": "a6b67001",
   "metadata": {},
   "outputs": [
    {
     "name": "stdout",
     "output_type": "stream",
     "text": [
      "Done!\n"
     ]
    }
   ],
   "source": [
    "import sys\n",
    "\n",
    "# define a raiz do projeto par aser possivel importar os modulos\\n\",\n",
    "sys.path.append(\"../../src\"),\n",
    "\n",
    "def restart_django():\n",
    "    import os\n",
    "    import sys\n",
    "    import django\n",
    "    # define a raiz do projeto par aser possivel importar os modulos\\n\",\n",
    "    sys.path.append(\"../\")\n",
    "\n",
    "    # configura o ambiente\\n\",\n",
    "    os.environ.setdefault(\"DJANGO_SETTINGS_MODULE\", \"pizzaria.settings\")\n",
    "    os.environ[\"DJANGO_ALLOW_ASYNC_UNSAFE\"] = \"true\"\n",
    "    django.setup()\n",
    "\n",
    "\n",
    "restart_django()\n",
    "from Pizzaria_Mamma_Mia.models import *\n",
    "print(\"Done!\")"
   ]
  },
  {
   "cell_type": "code",
   "execution_count": 4,
   "id": "f3082b1d",
   "metadata": {},
   "outputs": [
    {
     "name": "stdout",
     "output_type": "stream",
     "text": [
      "/media/Dados/imagens/%C3%A1gua_mineral_sem_g%C3%A1s_crystal_garrafa_500_ml_spoleto.jpg\n",
      "/media/dados/imagens/agua_com_gas_500ml.png\n",
      "/media/Dados/imagens/Suco-Del-Vale-Fresh-Laranja-Pet-15L-2.webp\n",
      "/media/dados/imagens/SucodeUvaDelValleFresh1_5L_158x.avif\n",
      "/media/Dados/imagens/coca_2L.jpg\n",
      "/media/dados/imagens/nana_2L.jpg\n"
     ]
    }
   ],
   "source": [
    "obj = Bebida.objects.all()\n",
    "for o in list(obj):\n",
    "    print(o.imagem.url)"
   ]
  }
 ],
 "metadata": {
  "kernelspec": {
   "display_name": "Python 3 (ipykernel)",
   "language": "python",
   "name": "python3"
  },
  "language_info": {
   "codemirror_mode": {
    "name": "ipython",
    "version": 3
   },
   "file_extension": ".py",
   "mimetype": "text/x-python",
   "name": "python",
   "nbconvert_exporter": "python",
   "pygments_lexer": "ipython3",
   "version": "3.11.2"
  }
 },
 "nbformat": 4,
 "nbformat_minor": 5
}
