{
 "cells": [
  {
   "cell_type": "code",
   "execution_count": 1,
   "id": "2bfb56fe",
   "metadata": {},
   "outputs": [
    {
     "name": "stdout",
     "output_type": "stream",
     "text": [
      "Done!\n"
     ]
    }
   ],
   "source": [
    "import sys\n",
    "\n",
    "# define a raiz do projeto par aser possivel importar os modulos\\n\",\n",
    "sys.path.append(\"../../src\"),\n",
    "\n",
    "def restart_django():\n",
    "    import os\n",
    "    import sys\n",
    "    import django\n",
    "    # define a raiz do projeto par aser possivel importar os modulos\\n\"\"\"\"\",\n",
    "    sys.path.append(\"../\")\n",
    "\n",
    "    # configura o ambiente\\n\"\",\n",
    "    os.environ.setdefault(\"DJANGO_SETTINGS_MODULE\", \"pizzaria.settings\")\n",
    "    os.environ[\"DJANGO_ALLOW_ASYNC_UNSAFE\"] = \"true\"\n",
    "    django.setup()\n",
    "\n",
    "\n",
    "restart_django()\n",
    "from Pizzaria_Mamma_Mia.models import *\n",
    "print(\"Done!\")"
   ]
  },
  {
   "attachments": {},
   "cell_type": "markdown",
   "id": "2d29cc5c",
   "metadata": {},
   "source": [
    "# Insere Ingredientes"
   ]
  },
  {
   "cell_type": "code",
   "execution_count": 2,
   "id": "5a4e4d6c",
   "metadata": {},
   "outputs": [
    {
     "name": "stdout",
     "output_type": "stream",
     "text": [
      "Antes: 0\n"
     ]
    },
    {
     "name": "stdout",
     "output_type": "stream",
     "text": [
      "Depois: 19\n"
     ]
    }
   ],
   "source": [
    "Ingrediente.objects.all().delete()\n",
    "print(f\"Antes: {Ingrediente.objects.all().count()}\")\n",
    "lst_ingredientes = [\n",
    "\"Molho de tomate\",\n",
    "\"Queijo mussarela\",\n",
    "\"Folhas frescas de manjericão\",\n",
    "\"Azeite de oliva extra virgem\",\n",
    "\"Pepperoni fatiado (salame picante)\",\n",
    "\"Queijo gorgonzola\",\n",
    "\"Queijo provolone\",\n",
    "\"Queijo parmesão ralado\",\n",
    "\"Calabresa fatiada\",\n",
    "\"Cebola fatiada\",\n",
    "\"Frango desfiado temperado\",\n",
    "\"Catupiry (queijo cremoso)\",\n",
    "\"Presunto fatiado\",\n",
    "\"Ovos\",\n",
    "\"Pimentão fatiado\",\n",
    "\"Azeitonas\",\n",
    "\"Tomate fatiado\",\n",
    "\"Champignon fatiado\",\n",
    "\"Pimenta-do-reino\",\n",
    "]\n",
    "\n",
    "for ingrediente in lst_ingredientes:\n",
    "    obj = Ingrediente.objects.create(nome=ingrediente)\n",
    "    obj.save()\n",
    "print(f\"Depois: {Ingrediente.objects.all().count()}\")"
   ]
  },
  {
   "attachments": {},
   "cell_type": "markdown",
   "id": "e52fa119",
   "metadata": {},
   "source": [
    "# Insere Bairros"
   ]
  },
  {
   "cell_type": "code",
   "execution_count": 3,
   "id": "82108c73",
   "metadata": {},
   "outputs": [
    {
     "name": "stdout",
     "output_type": "stream",
     "text": [
      "Antes: 0\n",
      "Depois: 502\n"
     ]
    }
   ],
   "source": [
    "def extrair_bairros(file):\n",
    "    bairros = []\n",
    "    with open(file, 'r', encoding=\"utf8\") as file:\n",
    "        cabecalho = file.readline()\n",
    "        for linha in file:\n",
    "            bairros.append(linha.split(\",\")[3])\n",
    "        file.close()\n",
    "    return bairros\n",
    "\n",
    "Bairro.objects.all().delete()\n",
    "print(f\"Antes: {Bairro.objects.all().count()}\")\n",
    "lista_bairros = extrair_bairros(\"Dados/Bairros_Belo_Horizonte.csv\")\n",
    "for bairro in lista_bairros:\n",
    "    obj = Bairro.objects.create(nome=bairro)\n",
    "    obj.save()\n",
    "print(f\"Depois: {Bairro.objects.all().count()}\")"
   ]
  },
  {
   "attachments": {},
   "cell_type": "markdown",
   "id": "66e1c699",
   "metadata": {},
   "source": [
    "# Insere Bebidas"
   ]
  },
  {
   "cell_type": "code",
   "execution_count": 2,
   "id": "6492c7b2",
   "metadata": {},
   "outputs": [
    {
     "name": "stdout",
     "output_type": "stream",
     "text": [
      "Antes: 0\n"
     ]
    },
    {
     "name": "stdout",
     "output_type": "stream",
     "text": [
      "Depois: 6\n"
     ]
    }
   ],
   "source": [
    "Bebida.objects.all().delete()\n",
    "print(f\"Antes: {Bebida.objects.all().count()}\")\n",
    "\n",
    "# pega os tipos de bebidas\n",
    "refrigerante = TipoBebida.objects.get(name=TipoBebida.REFRIGERANTE)\n",
    "suco = TipoBebida.objects.get(name=TipoBebida.SUCO)\n",
    "agua = TipoBebida.objects.get(name=TipoBebida.AGUA)\n",
    "\n",
    "# cria as bebidas AGUA\n",
    "obj = Bebida.objects.create(nome = \"Água Crystal 500ml\", tipo = agua, preco=2.75)\n",
    "obj.save()\n",
    "obj = Bebida.objects.create(nome = \"Água com gás Crystal 500ml\", tipo = agua, preco=3.25)\n",
    "obj.save()\n",
    "\n",
    "# cria as bebidas SUCO\n",
    "obj = Bebida.objects.create(nome = \"Suco Del Vale Fresh Laranja Pet 1,5L\", tipo = suco, preco=5.29)\n",
    "obj.save()\n",
    "obj = Bebida.objects.create(nome = \"Suco Del Vale Fresh Uva Pet 1,5L\", tipo = suco, preco=5.29)\n",
    "obj.save()\n",
    "\n",
    "# cria as bebidas REFRIGERANTE\n",
    "obj = Bebida.objects.create(nome = \"Coca Cola Pet 2L\", tipo = suco, preco=8.73)\n",
    "obj.save()\n",
    "obj = Bebida.objects.create(nome = \"Refrigerante Guaraná Antarctica Pet 2L\", tipo = suco, preco=8.59)\n",
    "obj.save()\n",
    "\n",
    "print(f\"Depois: {Bebida.objects.all().count()}\")"
   ]
  },
  {
   "attachments": {},
   "cell_type": "markdown",
   "id": "c9b17335",
   "metadata": {},
   "source": [
    "# Insere Pizzas"
   ]
  },
  {
   "cell_type": "code",
   "execution_count": 3,
   "id": "a4dd3134",
   "metadata": {},
   "outputs": [
    {
     "name": "stdout",
     "output_type": "stream",
     "text": [
      "Nome: gigante\n"
     ]
    }
   ],
   "source": [
    "# pega o tamanho das pizzas\n",
    "lst_tamanhos = [\n",
    "    Tamanho.objects.get(tamanho=Tamanho.GIGANTE),\n",
    "    Tamanho.objects.get(tamanho=Tamanho.GRANDE),\n",
    "    Tamanho.objects.get(tamanho=Tamanho.MEDIA),\n",
    "]\n",
    "\n",
    "print(lst_tamanhos[0])"
   ]
  },
  {
   "cell_type": "code",
   "execution_count": 4,
   "id": "80d5cae1",
   "metadata": {},
   "outputs": [
    {
     "name": "stdout",
     "output_type": "stream",
     "text": [
      "Antes: 0\n"
     ]
    },
    {
     "ename": "TypeError",
     "evalue": "can only concatenate str (not \"Tamanho\") to str",
     "output_type": "error",
     "traceback": [
      "\u001b[1;31m---------------------------------------------------------------------------\u001b[0m",
      "\u001b[1;31mTypeError\u001b[0m                                 Traceback (most recent call last)",
      "Cell \u001b[1;32mIn[4], line 43\u001b[0m\n\u001b[0;32m     39\u001b[0m \u001b[39mfor\u001b[39;00m _pizza \u001b[39min\u001b[39;00m lst_pizzas:\n\u001b[0;32m     40\u001b[0m     \u001b[39m# cria os sabores de pizzas para todos os tamanhos\u001b[39;00m\n\u001b[0;32m     41\u001b[0m     \u001b[39mfor\u001b[39;00m i, _tamanho \u001b[39min\u001b[39;00m \u001b[39menumerate\u001b[39m(lst_tamanhos):\n\u001b[0;32m     42\u001b[0m         obj \u001b[39m=\u001b[39m Pizza\u001b[39m.\u001b[39mobjects\u001b[39m.\u001b[39mcreate(\n\u001b[1;32m---> 43\u001b[0m             nome \u001b[39m=\u001b[39m _pizza[\u001b[39m\"\u001b[39;49m\u001b[39mnome\u001b[39;49m\u001b[39m\"\u001b[39;49m] \u001b[39m+\u001b[39;49m _tamanho,\n\u001b[0;32m     44\u001b[0m             preco \u001b[39m=\u001b[39m lst_preco[i],\n\u001b[0;32m     45\u001b[0m             tamanho \u001b[39m=\u001b[39m _tamanho,\n\u001b[0;32m     46\u001b[0m         )\n\u001b[0;32m     47\u001b[0m         obj\u001b[39m.\u001b[39msave()\n\u001b[0;32m     49\u001b[0m         \u001b[39m# adiciona os ingredientes\u001b[39;00m\n",
      "\u001b[1;31mTypeError\u001b[0m: can only concatenate str (not \"Tamanho\") to str"
     ]
    }
   ],
   "source": [
    "print(f\"Antes: {Pizza.objects.all().count()}\")\n",
    "\n",
    "# pega o tamanho das pizzas\n",
    "lst_tamanhos = [\n",
    "    Tamanho.objects.get(tamanho=Tamanho.GIGANTE),\n",
    "    Tamanho.objects.get(tamanho=Tamanho.GRANDE),\n",
    "    Tamanho.objects.get(tamanho=Tamanho.MEDIA),\n",
    "]\n",
    "\n",
    "lst_preco = [59.99, 39.99, 19.99]\n",
    "\n",
    "# pega as pizzas\n",
    "lst_pizzas = [\n",
    "    {\"nome\":\"Margherita\", \n",
    "    \"ingredientes\":[\"Molho de tomate\", \"Queijo mussarela\",\"Folhas frescas de manjericão\", \"Azeite de oliva extra virgem\"]},\n",
    "    {\"nome\":\"Pepperoni\",  \n",
    "    \"ingredientes\":[\"Molho de tomate\", \"Queijo mussarela\",\"Pepperoni fatiado (salame picante)\"]},\n",
    "    {\"nome\":\"Quatro Queijos\", \n",
    "    \"ingredientes\":[\"Molho de tomate\", \"Queijo mussarela\",\"Queijo gorgonzola\", \"Queijo provolone\", \"Queijo parmesão ralado\"]},\n",
    "    {\"nome\":\"Calabresa\",  \n",
    "    \"ingredientes\":[\"Molho de tomate\", \"Queijo mussarela\",\"Calabresa fatiada\", \"Cebola fatiada\"]},\n",
    "    {\"nome\":\"Frango com Catupiry\",  \n",
    "    \"ingredientes\":[\"Molho de tomate\", \"Queijo mussarela\",\"Frango desfiado temperado\", \"Catupiry (queijo cremoso)\"]},\n",
    "    {\"nome\":\"Portuguesa\", \n",
    "    \"ingredientes\":[\"Molho de tomate\", \"Queijo mussarela\",\"Presunto fatiado\",\"Ovos\",\"Cebola fatiada\",\"Pimentão fatiado\",\"Azeitonas\"]},\n",
    "    {\"nome\":\"Vegetariana\", \n",
    "    \"ingredientes\":[\"Molho de tomate\", \"Queijo mussarela\",\"Tomate fatiado\", \"Cebola fatiada\", \n",
    "                    \"Pimentão fatiado\", \"Champignon fatiado\",\"Azeitonas\"]},\n",
    "    {\"nome\":\"Caprese\", \n",
    "    \"ingredientes\":[\"Molho de tomate\", \"Queijo mussarela\",\"Tomate fatiado\", \"Folhas frescas de manjericão\", \n",
    "                    \"Azeite de oliva extra virgem\", \"Pimenta-do-reino\"]},\n",
    "    {\"nome\":\"\", \n",
    "    \"ingredientes\":[\"Molho de tomate\", \"Queijo mussarela\",\"\"]},\n",
    "    {\"nome\":\"\",  \n",
    "    \"ingredientes\":[\"Molho de tomate\", \"Queijo mussarela\",\"\"]},\n",
    "]\n",
    "\n",
    "# cria as pizzas de um sabor\n",
    "for _pizza in lst_pizzas:\n",
    "    # cria os sabores de pizzas para todos os tamanhos\n",
    "    for i, _tamanho in enumerate(lst_tamanhos):\n",
    "        obj = Pizza.objects.create(\n",
    "            nome = _pizza[\"nome\"] + _tamanho.tamanho,\n",
    "            preco = lst_preco[i],\n",
    "            tamanho = _tamanho,\n",
    "        )\n",
    "        obj.save()\n",
    "\n",
    "        # adiciona os ingredientes\n",
    "        for _ingrediente in _pizza[\"ingredientes\"]:\n",
    "            composicao.objects.create(\n",
    "                fk_pizza = obj,\n",
    "                fk_ingredientes = Ingrediente.objects.get(nome=_ingrediente)\n",
    "            )\n",
    "print(f\"Depois: {Pizza.objects.all().count()}\")"
   ]
  }
 ],
 "metadata": {
  "kernelspec": {
   "display_name": "Python 3 (ipykernel)",
   "language": "python",
   "name": "python3"
  },
  "language_info": {
   "codemirror_mode": {
    "name": "ipython",
    "version": 3
   },
   "file_extension": ".py",
   "mimetype": "text/x-python",
   "name": "python",
   "nbconvert_exporter": "python",
   "pygments_lexer": "ipython3",
   "version": "3.11.2"
  }
 },
 "nbformat": 4,
 "nbformat_minor": 5
}
