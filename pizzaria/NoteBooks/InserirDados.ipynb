{
 "cells": [
  {
   "cell_type": "code",
   "execution_count": 1,
   "id": "2bfb56fe",
   "metadata": {},
   "outputs": [
    {
     "name": "stdout",
     "output_type": "stream",
     "text": [
      "Done!\n"
     ]
    }
   ],
   "source": [
    "import sys\n",
    "sys.path.append(\"../../src\"),\n",
    "\n",
    "def restart_django():\n",
    "    import os\n",
    "    import sys\n",
    "    import django\n",
    "    sys.path.append(\"../\")\n",
    "    os.environ.setdefault(\"DJANGO_SETTINGS_MODULE\", \"pizzaria.settings\")\n",
    "    os.environ[\"DJANGO_ALLOW_ASYNC_UNSAFE\"] = \"true\"\n",
    "    django.setup()\n",
    "\n",
    "\n",
    "restart_django()\n",
    "from Pizzaria_Mamma_Mia.models import *\n",
    "print(\"Done!\")"
   ]
  },
  {
   "attachments": {},
   "cell_type": "markdown",
   "id": "2d29cc5c",
   "metadata": {},
   "source": [
    "# Insere Ingredientes"
   ]
  },
  {
   "cell_type": "code",
   "execution_count": 2,
   "id": "5a4e4d6c",
   "metadata": {},
   "outputs": [
    {
     "name": "stdout",
     "output_type": "stream",
     "text": [
      "Antes: 0\n"
     ]
    },
    {
     "name": "stdout",
     "output_type": "stream",
     "text": [
      "Depois: 20\n"
     ]
    }
   ],
   "source": [
    "Ingrediente.objects.all().delete()\n",
    "print(f\"Antes: {Ingrediente.objects.all().count()}\")\n",
    "lst_ingredientes = [\n",
    "\"Molho de tomate\",\n",
    "\"Queijo mussarela\",\n",
    "\"Folhas frescas de manjericão\",\n",
    "\"Azeite de oliva extra virgem\",\n",
    "\"Pepperoni fatiado (salame picante)\",\n",
    "\"Queijo gorgonzola\",\n",
    "\"Queijo provolone\",\n",
    "\"Queijo parmesão ralado\",\n",
    "\"Calabresa fatiada\",\n",
    "\"Cebola fatiada\",\n",
    "\"Frango desfiado temperado\",\n",
    "\"Catupiry (queijo cremoso)\",\n",
    "\"Presunto fatiado\",\n",
    "\"Ovos\",\n",
    "\"Pimentão fatiado\",\n",
    "\"Azeitonas\",\n",
    "\"Tomate fatiado\",\n",
    "\"Champignon fatiado\",\n",
    "\"Pimenta-do-reino\",\n",
    "\"Orégano\",\n",
    "]\n",
    "\n",
    "for ingrediente in lst_ingredientes:\n",
    "    obj = Ingrediente.objects.create(nome=ingrediente)\n",
    "    obj.save()\n",
    "print(f\"Depois: {Ingrediente.objects.all().count()}\")"
   ]
  },
  {
   "attachments": {},
   "cell_type": "markdown",
   "id": "e52fa119",
   "metadata": {},
   "source": [
    "# Insere Bairros"
   ]
  },
  {
   "cell_type": "code",
   "execution_count": 3,
   "id": "82108c73",
   "metadata": {},
   "outputs": [
    {
     "name": "stdout",
     "output_type": "stream",
     "text": [
      "Antes: 0\n",
      "Depois: 502\n"
     ]
    }
   ],
   "source": [
    "def extrair_bairros(file):\n",
    "    bairros = []\n",
    "    with open(file, 'r', encoding=\"utf8\") as file:\n",
    "        cabecalho = file.readline()\n",
    "        for linha in file:\n",
    "            bairros.append(linha.split(\",\")[3])\n",
    "        file.close()\n",
    "    return bairros\n",
    "\n",
    "Bairro.objects.all().delete()\n",
    "print(f\"Antes: {Bairro.objects.all().count()}\")\n",
    "lista_bairros = extrair_bairros(\"Dados/Bairros_Belo_Horizonte.csv\")\n",
    "for bairro in lista_bairros:\n",
    "    obj = Bairro.objects.create(nome=bairro)\n",
    "    obj.save()\n",
    "print(f\"Depois: {Bairro.objects.all().count()}\")"
   ]
  },
  {
   "attachments": {},
   "cell_type": "markdown",
   "id": "66e1c699",
   "metadata": {},
   "source": [
    "# Insere Bebidas"
   ]
  },
  {
   "cell_type": "code",
   "execution_count": 4,
   "id": "6492c7b2",
   "metadata": {},
   "outputs": [
    {
     "name": "stdout",
     "output_type": "stream",
     "text": [
      "Antes: 0\n"
     ]
    },
    {
     "name": "stdout",
     "output_type": "stream",
     "text": [
      "Depois: 6\n"
     ]
    }
   ],
   "source": [
    "Bebida.objects.all().delete()\n",
    "print(f\"Antes: {Bebida.objects.all().count()}\")\n",
    "\n",
    "# pega os tipos de bebidas\n",
    "refrigerante = TipoBebida.objects.get(name=TipoBebida.REFRIGERANTE)\n",
    "suco = TipoBebida.objects.get(name=TipoBebida.SUCO)\n",
    "agua = TipoBebida.objects.get(name=TipoBebida.AGUA)\n",
    "\n",
    "# cria as bebidas AGUA\n",
    "obj = Bebida.objects.create(nome = \"Água Crystal 500ml\", tipo = agua, preco=2.75)\n",
    "obj.save()\n",
    "obj = Bebida.objects.create(nome = \"Água com gás Crystal 500ml\", tipo = agua, preco=3.25)\n",
    "obj.save()\n",
    "\n",
    "# cria as bebidas SUCO\n",
    "obj = Bebida.objects.create(nome = \"Suco Del Vale Fresh Laranja Pet 1,5L\", tipo = suco, preco=5.29)\n",
    "obj.save()\n",
    "obj = Bebida.objects.create(nome = \"Suco Del Vale Fresh Uva Pet 1,5L\", tipo = suco, preco=5.29)\n",
    "obj.save()\n",
    "\n",
    "# cria as bebidas REFRIGERANTE\n",
    "obj = Bebida.objects.create(nome = \"Coca Cola Pet 2L\", tipo = suco, preco=8.73)\n",
    "obj.save()\n",
    "obj = Bebida.objects.create(nome = \"Refrigerante Guaraná Antarctica Pet 2L\", tipo = suco, preco=8.59)\n",
    "obj.save()\n",
    "\n",
    "print(f\"Depois: {Bebida.objects.all().count()}\")"
   ]
  },
  {
   "attachments": {},
   "cell_type": "markdown",
   "id": "c9b17335",
   "metadata": {},
   "source": [
    "# Insere Sabores"
   ]
  },
  {
   "cell_type": "code",
   "execution_count": 5,
   "id": "26323a5c",
   "metadata": {},
   "outputs": [
    {
     "name": "stdout",
     "output_type": "stream",
     "text": [
      "Antes: 0\n"
     ]
    },
    {
     "name": "stdout",
     "output_type": "stream",
     "text": [
      "Depois: 10\n"
     ]
    }
   ],
   "source": [
    "Sabor.objects.all().delete()\n",
    "print(f\"Antes: {Sabor.objects.all().count()}\")\n",
    "\n",
    "# pega as pizzas\n",
    "lst_sabores = [\n",
    "    {\"nome\":\"Margherita\", \n",
    "    \"ingredientes\":[\"Molho de tomate\", \"Queijo mussarela\",\"Folhas frescas de manjericão\", \"Azeite de oliva extra virgem\"]},\n",
    "    {\"nome\":\"Pepperoni\",  \n",
    "    \"ingredientes\":[\"Molho de tomate\", \"Queijo mussarela\",\"Pepperoni fatiado (salame picante)\"]},\n",
    "    {\"nome\":\"Quatro Queijos\", \n",
    "    \"ingredientes\":[\"Molho de tomate\", \"Queijo mussarela\",\"Queijo gorgonzola\", \"Queijo provolone\", \"Queijo parmesão ralado\"]},\n",
    "    {\"nome\":\"Calabresa\",  \n",
    "    \"ingredientes\":[\"Molho de tomate\", \"Queijo mussarela\",\"Calabresa fatiada\", \"Cebola fatiada\"]},\n",
    "    {\"nome\":\"Frango com Catupiry\",  \n",
    "    \"ingredientes\":[\"Molho de tomate\", \"Queijo mussarela\",\"Frango desfiado temperado\", \"Catupiry (queijo cremoso)\"]},\n",
    "    {\"nome\":\"Portuguesa\", \n",
    "    \"ingredientes\":[\"Molho de tomate\", \"Queijo mussarela\",\"Presunto fatiado\",\"Ovos\",\"Cebola fatiada\",\"Pimentão fatiado\",\"Azeitonas\"]},\n",
    "    {\"nome\":\"Vegetariana\", \n",
    "    \"ingredientes\":[\"Molho de tomate\", \"Queijo mussarela\",\"Tomate fatiado\", \"Cebola fatiada\", \n",
    "                    \"Pimentão fatiado\", \"Champignon fatiado\",\"Azeitonas\"]},\n",
    "    {\"nome\":\"Caprese\", \n",
    "    \"ingredientes\":[\"Molho de tomate\", \"Queijo mussarela\",\"Tomate fatiado\", \"Folhas frescas de manjericão\", \n",
    "                    \"Azeite de oliva extra virgem\", \"Pimenta-do-reino\"]},\n",
    "    {\"nome\":\"À Moda\", \n",
    "    \"ingredientes\":[\"Molho de tomate\", \"Queijo mussarela\",\"Calabresa fatiada\", \"Cebola fatiada\", \"Orégano\", \"Azeitonas\"]},\n",
    "    {\"nome\":\"Napolitana\",  \n",
    "    \"ingredientes\":[\"Molho de tomate\", \"Queijo mussarela\", \"Folhas frescas de manjericão\", \"Azeite de oliva extra virgem\"]},\n",
    "    \n",
    "]\n",
    "\n",
    "# cria as pizzas de um sabor\n",
    "for _sabor in lst_sabores:\n",
    "    obj = Sabor.objects.create(\n",
    "            nome = _sabor[\"nome\"],\n",
    "        )\n",
    "    obj.save()\n",
    "\n",
    "    # adiciona os ingredientes\n",
    "    for _ingrediente in _sabor[\"ingredientes\"]:\n",
    "        Composicao.objects.create(\n",
    "            fk_sabor = obj,\n",
    "            fk_ingrediente = Ingrediente.objects.get(nome=_ingrediente)\n",
    "        )\n",
    "print(f\"Depois: {Sabor.objects.all().count()}\")"
   ]
  },
  {
   "attachments": {},
   "cell_type": "markdown",
   "id": "0d5a46b9",
   "metadata": {},
   "source": [
    "# Insere Pizzas"
   ]
  },
  {
   "cell_type": "code",
   "execution_count": 6,
   "id": "80d5cae1",
   "metadata": {},
   "outputs": [
    {
     "name": "stdout",
     "output_type": "stream",
     "text": [
      "Antes: 0\n",
      "Depois: 30\n"
     ]
    }
   ],
   "source": [
    "print(f\"Antes: {Pizza.objects.all().count()}\")\n",
    "\n",
    "# pega o tamanho das pizzas\n",
    "lst_tamanhos = [\n",
    "    Tamanho.objects.get(tamanho=Tamanho.GIGANTE),\n",
    "    Tamanho.objects.get(tamanho=Tamanho.GRANDE),\n",
    "    Tamanho.objects.get(tamanho=Tamanho.MEDIA),\n",
    "]\n",
    "\n",
    "lst_preco = [59.99, 39.99, 19.99]\n",
    "\n",
    "# pega as pizzas\n",
    "lst_pizzas = list(Sabor.objects.all().values(\"nome\"))\n",
    "\n",
    "# cria as pizzas de um sabor\n",
    "for _pizza in lst_pizzas:\n",
    "    # cria os sabores de pizzas para todos os tamanhos\n",
    "    for i, _tamanho in enumerate(lst_tamanhos):\n",
    "        obj = Pizza.objects.create(\n",
    "            nome = _pizza[\"nome\"],\n",
    "            preco = lst_preco[i],\n",
    "            tamanho = _tamanho,\n",
    "            sabor = Sabor.objects.get(nome=_pizza[\"nome\"])\n",
    "        )\n",
    "        obj.save()\n",
    "\n",
    "print(f\"Depois: {Pizza.objects.all().count()}\")"
   ]
  },
  {
   "attachments": {},
   "cell_type": "markdown",
   "id": "a238c112",
   "metadata": {},
   "source": [
    "# Inserir Combos"
   ]
  },
  {
   "cell_type": "code",
   "execution_count": 13,
   "id": "3544a754",
   "metadata": {},
   "outputs": [
    {
     "name": "stdout",
     "output_type": "stream",
     "text": [
      "Antes: 0\n",
      "(À Moda + Portuguesa) gigantes\n",
      "Combo object (1)\n",
      "(Calabresa + Quatro Queijos) gigantes + Refrigerante Guaraná Antarctica Pet 2L\n",
      "Combo object (2)\n",
      "Depois: 2\n"
     ]
    }
   ],
   "source": [
    "print(f\"Antes: {Combo.objects.all().count()}\")\n",
    "\n",
    "# pega os sabores\n",
    "lst_pizzas = list(Sabor.objects.all().values(\"nome\", \"id\"))\n",
    "\n",
    "def criaCombo(_nome, _preco, _p1, _p2, _bebida=None):\n",
    "    obj = Combo.objects.create(\n",
    "        descricao = _nome,\n",
    "        preco = _preco,\n",
    "        fk_pizza_1 = _p1,\n",
    "        fk_pizza_2 = _p2,\n",
    "        fk_bebida = _bebida,\n",
    "    )\n",
    "    print(obj)\n",
    "    obj.save()\n",
    "\n",
    "p1 = Pizza.objects.get(nome='À Moda', tamanho__tamanho=Tamanho.GIGANTE)\n",
    "p2 = Pizza.objects.get(nome='Portuguesa', tamanho__tamanho=Tamanho.GIGANTE)\n",
    "desc = f\"({p1.nome} + {p2.nome}) {p1.tamanho.tamanho}s\"\n",
    "print(desc)\n",
    "criaCombo(desc, 112.99, p1, p2)\n",
    "\n",
    "p1 = Pizza.objects.get(nome='Calabresa', tamanho__tamanho=Tamanho.GIGANTE)\n",
    "p2 = Pizza.objects.get(nome='Quatro Queijos', tamanho__tamanho=Tamanho.GIGANTE)\n",
    "bebida = Bebida.objects.get(nome=\"Refrigerante Guaraná Antarctica Pet 2L\")\n",
    "desc = f\"({p1.nome} + {p2.nome}) {p1.tamanho.tamanho}s + {bebida.nome}\"\n",
    "print(desc)\n",
    "criaCombo(desc, 119.99, p1, p2, bebida)\n",
    "\n",
    "print(f\"Depois: {Combo.objects.all().count()}\")"
   ]
  },
  {
   "attachments": {},
   "cell_type": "markdown",
   "id": "ace46437",
   "metadata": {},
   "source": [
    "# Inserir Piza de Dois Sabores"
   ]
  },
  {
   "cell_type": "code",
   "execution_count": 12,
   "id": "b564d1f7",
   "metadata": {},
   "outputs": [
    {
     "name": "stdout",
     "output_type": "stream",
     "text": [
      "Antes: 0\n"
     ]
    },
    {
     "name": "stdout",
     "output_type": "stream",
     "text": [
      "Depois: 135\n"
     ]
    }
   ],
   "source": [
    "Pizza2Sabores.objects.all().delete()\n",
    "print(f\"Antes: {Pizza2Sabores.objects.all().count()}\")\n",
    "\n",
    "# pega o tamanho das pizzas\n",
    "lst_tamanhos = [\n",
    "    Tamanho.objects.get(tamanho=Tamanho.GIGANTE),\n",
    "    Tamanho.objects.get(tamanho=Tamanho.GRANDE),\n",
    "    Tamanho.objects.get(tamanho=Tamanho.MEDIA),\n",
    "]\n",
    "\n",
    "lst_preco = [64.99, 44.99, 24.99]\n",
    "\n",
    "# pega as pizzas\n",
    "lst_pizzas = list(Sabor.objects.all().values(\"nome\"))\n",
    "\n",
    "# cadastra pizza 2 sabores\n",
    "def cadastraPiza2Sbores(_nome, _preco, _tamanho, _sabor1, _sabor2):\n",
    "    obj = Pizza2Sabores.objects.create(\n",
    "        nome = _nome,\n",
    "        preco = _preco,\n",
    "        tamanho = _tamanho,\n",
    "        primeiro_sabor = _sabor1,\n",
    "        segundo_sabor = _sabor2,\n",
    "    )\n",
    "    obj.save()\n",
    "\n",
    "# cria as pizzas de um sabor\n",
    "for p1, _pizza_1 in enumerate(lst_pizzas):\n",
    "    # cria os sabores de pizzas para todos os tamanhos\n",
    "    for p2, _pizza_2 in enumerate(lst_pizzas[p1+1:]):\n",
    "        if _pizza_1 != _pizza_2:\n",
    "            for t, _tamanho in enumerate(lst_tamanhos):\n",
    "                _sabor1 = Sabor.objects.get(nome=_pizza_1['nome'])\n",
    "                _sabor2 = Sabor.objects.get(nome=_pizza_2['nome'])\n",
    "                _nome = \"metade \" + _sabor1.nome + \" metade \" + _sabor2.nome\n",
    "                cadastraPiza2Sbores(_nome, lst_preco[t], _tamanho, _sabor1, _sabor2)\n",
    "        else:\n",
    "            print(f\"iguais {_pizza_1} {_pizza_2}\")\n",
    "print(f\"Depois: {Pizza2Sabores.objects.all().count()}\")"
   ]
  }
 ],
 "metadata": {
  "kernelspec": {
   "display_name": "Python 3 (ipykernel)",
   "language": "python",
   "name": "python3"
  },
  "language_info": {
   "codemirror_mode": {
    "name": "ipython",
    "version": 3
   },
   "file_extension": ".py",
   "mimetype": "text/x-python",
   "name": "python",
   "nbconvert_exporter": "python",
   "pygments_lexer": "ipython3",
   "version": "3.11.2"
  }
 },
 "nbformat": 4,
 "nbformat_minor": 5
}
