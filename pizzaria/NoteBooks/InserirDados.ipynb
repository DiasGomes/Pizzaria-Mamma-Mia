{
 "cells": [
  {
   "cell_type": "code",
   "execution_count": 1,
   "id": "2bfb56fe",
   "metadata": {},
   "outputs": [
    {
     "name": "stdout",
     "output_type": "stream",
     "text": [
      "Done!\n"
     ]
    }
   ],
   "source": [
    "import sys\n",
    "\n",
    "# define a raiz do projeto par aser possivel importar os modulos\\n\",\n",
    "sys.path.append(\"../../src\"),\n",
    "\n",
    "def restart_django():\n",
    "    import os\n",
    "    import sys\n",
    "    import django\n",
    "    # define a raiz do projeto par aser possivel importar os modulos\\n\"\"\"\"\",\n",
    "    sys.path.append(\"../\")\n",
    "\n",
    "    # configura o ambiente\\n\"\",\n",
    "    os.environ.setdefault(\"DJANGO_SETTINGS_MODULE\", \"pizzaria.settings\")\n",
    "    os.environ[\"DJANGO_ALLOW_ASYNC_UNSAFE\"] = \"true\"\n",
    "    django.setup()\n",
    "\n",
    "\n",
    "restart_django()\n",
    "from Pizzaria_Mamma_Mia.models import *\n",
    "print(\"Done!\")"
   ]
  },
  {
   "attachments": {},
   "cell_type": "markdown",
   "id": "2d29cc5c",
   "metadata": {},
   "source": [
    "# Insere Ingredientes"
   ]
  },
  {
   "cell_type": "code",
   "execution_count": 2,
   "id": "5a4e4d6c",
   "metadata": {},
   "outputs": [
    {
     "name": "stdout",
     "output_type": "stream",
     "text": [
      "Antes: 0\n"
     ]
    },
    {
     "name": "stdout",
     "output_type": "stream",
     "text": [
      "Depois: 19\n"
     ]
    }
   ],
   "source": [
    "Ingrediente.objects.all().delete()\n",
    "print(f\"Antes: {Ingrediente.objects.all().count()}\")\n",
    "lst_ingredientes = [\n",
    "\"Molho de tomate\",\n",
    "\"Queijo mussarela\",\n",
    "\"Folhas frescas de manjericão\",\n",
    "\"Azeite de oliva extra virgem\",\n",
    "\"Pepperoni fatiado (salame picante)\",\n",
    "\"Queijo gorgonzola\",\n",
    "\"Queijo provolone\",\n",
    "\"Queijo parmesão ralado\",\n",
    "\"Calabresa fatiada\",\n",
    "\"Cebola fatiada\",\n",
    "\"Frango desfiado temperado\",\n",
    "\"Catupiry (queijo cremoso)\",\n",
    "\"Presunto fatiado\",\n",
    "\"Ovos\",\n",
    "\"Pimentão fatiado\",\n",
    "\"Azeitonas\",\n",
    "\"Tomate fatiado\",\n",
    "\"Champignon fatiado\",\n",
    "\"Pimenta-do-reino\",\n",
    "]\n",
    "\n",
    "for ingrediente in lst_ingredientes:\n",
    "    obj = Ingrediente.objects.create(nome=ingrediente)\n",
    "    obj.save()\n",
    "print(f\"Depois: {Ingrediente.objects.all().count()}\")"
   ]
  },
  {
   "attachments": {},
   "cell_type": "markdown",
   "id": "e52fa119",
   "metadata": {},
   "source": [
    "# Insere Bairros"
   ]
  },
  {
   "cell_type": "code",
   "execution_count": 3,
   "id": "82108c73",
   "metadata": {},
   "outputs": [
    {
     "name": "stdout",
     "output_type": "stream",
     "text": [
      "Antes: 0\n",
      "Depois: 502\n"
     ]
    }
   ],
   "source": [
    "def extrair_bairros(file):\n",
    "    bairros = []\n",
    "    with open(file, 'r', encoding=\"utf8\") as file:\n",
    "        cabecalho = file.readline()\n",
    "        for linha in file:\n",
    "            bairros.append(linha.split(\",\")[3])\n",
    "        file.close()\n",
    "    return bairros\n",
    "\n",
    "Bairro.objects.all().delete()\n",
    "print(f\"Antes: {Bairro.objects.all().count()}\")\n",
    "lista_bairros = extrair_bairros(\"Dados/Bairros_Belo_Horizonte.csv\")\n",
    "for bairro in lista_bairros:\n",
    "    obj = Bairro.objects.create(nome=bairro)\n",
    "    obj.save()\n",
    "print(f\"Depois: {Bairro.objects.all().count()}\")"
   ]
  },
  {
   "attachments": {},
   "cell_type": "markdown",
   "id": "66e1c699",
   "metadata": {},
   "source": [
    "# Insere Bebidas"
   ]
  },
  {
   "cell_type": "code",
   "execution_count": 2,
   "id": "6492c7b2",
   "metadata": {},
   "outputs": [
    {
     "name": "stdout",
     "output_type": "stream",
     "text": [
      "Antes: 0\n"
     ]
    },
    {
     "name": "stdout",
     "output_type": "stream",
     "text": [
      "Depois: 6\n"
     ]
    }
   ],
   "source": [
    "Bebida.objects.all().delete()\n",
    "print(f\"Antes: {Bebida.objects.all().count()}\")\n",
    "\n",
    "# pega os tipos de bebidas\n",
    "refrigerante = TipoBebida.objects.get(name=TipoBebida.REFRIGERANTE)\n",
    "suco = TipoBebida.objects.get(name=TipoBebida.SUCO)\n",
    "agua = TipoBebida.objects.get(name=TipoBebida.AGUA)\n",
    "\n",
    "# cria as bebidas AGUA\n",
    "obj = Bebida.objects.create(nome = \"Água Crystal 500ml\", tipo = agua, preco=2.75)\n",
    "obj.save()\n",
    "obj = Bebida.objects.create(nome = \"Água com gás Crystal 500ml\", tipo = agua, preco=3.25)\n",
    "obj.save()\n",
    "\n",
    "# cria as bebidas SUCO\n",
    "obj = Bebida.objects.create(nome = \"Suco Del Vale Fresh Laranja Pet 1,5L\", tipo = suco, preco=5.29)\n",
    "obj.save()\n",
    "obj = Bebida.objects.create(nome = \"Suco Del Vale Fresh Uva Pet 1,5L\", tipo = suco, preco=5.29)\n",
    "obj.save()\n",
    "\n",
    "# cria as bebidas REFRIGERANTE\n",
    "obj = Bebida.objects.create(nome = \"Coca Cola Pet 2L\", tipo = suco, preco=8.73)\n",
    "obj.save()\n",
    "obj = Bebida.objects.create(nome = \"Refrigerante Guaraná Antarctica Pet 2L\", tipo = suco, preco=8.59)\n",
    "obj.save()\n",
    "\n",
    "print(f\"Depois: {Bebida.objects.all().count()}\")"
   ]
  },
  {
   "attachments": {},
   "cell_type": "markdown",
   "id": "c9b17335",
   "metadata": {},
   "source": [
    "# Insere Pizzas"
   ]
  },
  {
   "cell_type": "code",
   "execution_count": 5,
   "id": "a4dd3134",
   "metadata": {},
   "outputs": [
    {
     "name": "stdout",
     "output_type": "stream",
     "text": [
      "gigante\n"
     ]
    }
   ],
   "source": [
    "# pega o tamanho das pizzas\n",
    "lst_tamanhos = [\n",
    "    Tamanho.objects.get(tamanho=Tamanho.GIGANTE),\n",
    "    Tamanho.objects.get(tamanho=Tamanho.GRANDE),\n",
    "    Tamanho.objects.get(tamanho=Tamanho.MEDIA),\n",
    "]\n",
    "\n",
    "print(lst_tamanhos[0].tamanho)"
   ]
  },
  {
   "cell_type": "code",
   "execution_count": 6,
   "id": "80d5cae1",
   "metadata": {},
   "outputs": [
    {
     "name": "stdout",
     "output_type": "stream",
     "text": [
      "Antes: 0\n"
     ]
    },
    {
     "ename": "DoesNotExist",
     "evalue": "Ingrediente matching query does not exist.",
     "output_type": "error",
     "traceback": [
      "\u001b[1;31m---------------------------------------------------------------------------\u001b[0m",
      "\u001b[1;31mDoesNotExist\u001b[0m                              Traceback (most recent call last)",
      "Cell \u001b[1;32mIn[6], line 53\u001b[0m\n\u001b[0;32m     49\u001b[0m         \u001b[39m# adiciona os ingredientes\u001b[39;00m\n\u001b[0;32m     50\u001b[0m         \u001b[39mfor\u001b[39;00m _ingrediente \u001b[39min\u001b[39;00m _pizza[\u001b[39m\"\u001b[39m\u001b[39mingredientes\u001b[39m\u001b[39m\"\u001b[39m]:\n\u001b[0;32m     51\u001b[0m             composicao\u001b[39m.\u001b[39mobjects\u001b[39m.\u001b[39mcreate(\n\u001b[0;32m     52\u001b[0m                 fk_pizza \u001b[39m=\u001b[39m obj,\n\u001b[1;32m---> 53\u001b[0m                 fk_ingredientes \u001b[39m=\u001b[39m Ingrediente\u001b[39m.\u001b[39;49mobjects\u001b[39m.\u001b[39;49mget(nome\u001b[39m=\u001b[39;49m_ingrediente)\n\u001b[0;32m     54\u001b[0m             )\n\u001b[0;32m     55\u001b[0m \u001b[39mprint\u001b[39m(\u001b[39mf\u001b[39m\u001b[39m\"\u001b[39m\u001b[39mDepois: \u001b[39m\u001b[39m{\u001b[39;00mPizza\u001b[39m.\u001b[39mobjects\u001b[39m.\u001b[39mall()\u001b[39m.\u001b[39mcount()\u001b[39m}\u001b[39;00m\u001b[39m\"\u001b[39m)\n",
      "File \u001b[1;32mc:\\Users\\jaovd\\AppData\\Local\\Programs\\Python\\Python311\\Lib\\site-packages\\django\\db\\models\\manager.py:87\u001b[0m, in \u001b[0;36mBaseManager._get_queryset_methods.<locals>.create_method.<locals>.manager_method\u001b[1;34m(self, *args, **kwargs)\u001b[0m\n\u001b[0;32m     85\u001b[0m \u001b[39m@wraps\u001b[39m(method)\n\u001b[0;32m     86\u001b[0m \u001b[39mdef\u001b[39;00m \u001b[39mmanager_method\u001b[39m(\u001b[39mself\u001b[39m, \u001b[39m*\u001b[39margs, \u001b[39m*\u001b[39m\u001b[39m*\u001b[39mkwargs):\n\u001b[1;32m---> 87\u001b[0m     \u001b[39mreturn\u001b[39;00m \u001b[39mgetattr\u001b[39;49m(\u001b[39mself\u001b[39;49m\u001b[39m.\u001b[39;49mget_queryset(), name)(\u001b[39m*\u001b[39;49margs, \u001b[39m*\u001b[39;49m\u001b[39m*\u001b[39;49mkwargs)\n",
      "File \u001b[1;32mc:\\Users\\jaovd\\AppData\\Local\\Programs\\Python\\Python311\\Lib\\site-packages\\django\\db\\models\\query.py:637\u001b[0m, in \u001b[0;36mQuerySet.get\u001b[1;34m(self, *args, **kwargs)\u001b[0m\n\u001b[0;32m    635\u001b[0m     \u001b[39mreturn\u001b[39;00m clone\u001b[39m.\u001b[39m_result_cache[\u001b[39m0\u001b[39m]\n\u001b[0;32m    636\u001b[0m \u001b[39mif\u001b[39;00m \u001b[39mnot\u001b[39;00m num:\n\u001b[1;32m--> 637\u001b[0m     \u001b[39mraise\u001b[39;00m \u001b[39mself\u001b[39m\u001b[39m.\u001b[39mmodel\u001b[39m.\u001b[39mDoesNotExist(\n\u001b[0;32m    638\u001b[0m         \u001b[39m\"\u001b[39m\u001b[39m%s\u001b[39;00m\u001b[39m matching query does not exist.\u001b[39m\u001b[39m\"\u001b[39m \u001b[39m%\u001b[39m \u001b[39mself\u001b[39m\u001b[39m.\u001b[39mmodel\u001b[39m.\u001b[39m_meta\u001b[39m.\u001b[39mobject_name\n\u001b[0;32m    639\u001b[0m     )\n\u001b[0;32m    640\u001b[0m \u001b[39mraise\u001b[39;00m \u001b[39mself\u001b[39m\u001b[39m.\u001b[39mmodel\u001b[39m.\u001b[39mMultipleObjectsReturned(\n\u001b[0;32m    641\u001b[0m     \u001b[39m\"\u001b[39m\u001b[39mget() returned more than one \u001b[39m\u001b[39m%s\u001b[39;00m\u001b[39m -- it returned \u001b[39m\u001b[39m%s\u001b[39;00m\u001b[39m!\u001b[39m\u001b[39m\"\u001b[39m\n\u001b[0;32m    642\u001b[0m     \u001b[39m%\u001b[39m (\n\u001b[1;32m   (...)\u001b[0m\n\u001b[0;32m    645\u001b[0m     )\n\u001b[0;32m    646\u001b[0m )\n",
      "\u001b[1;31mDoesNotExist\u001b[0m: Ingrediente matching query does not exist."
     ]
    }
   ],
   "source": [
    "print(f\"Antes: {Pizza.objects.all().count()}\")\n",
    "\n",
    "# pega o tamanho das pizzas\n",
    "lst_tamanhos = [\n",
    "    Tamanho.objects.get(tamanho=Tamanho.GIGANTE),\n",
    "    Tamanho.objects.get(tamanho=Tamanho.GRANDE),\n",
    "    Tamanho.objects.get(tamanho=Tamanho.MEDIA),\n",
    "]\n",
    "\n",
    "lst_preco = [59.99, 39.99, 19.99]\n",
    "\n",
    "# pega as pizzas\n",
    "lst_pizzas = [\n",
    "    {\"nome\":\"Margherita\", \n",
    "    \"ingredientes\":[\"Molho de tomate\", \"Queijo mussarela\",\"Folhas frescas de manjericão\", \"Azeite de oliva extra virgem\"]},\n",
    "    {\"nome\":\"Pepperoni\",  \n",
    "    \"ingredientes\":[\"Molho de tomate\", \"Queijo mussarela\",\"Pepperoni fatiado (salame picante)\"]},\n",
    "    {\"nome\":\"Quatro Queijos\", \n",
    "    \"ingredientes\":[\"Molho de tomate\", \"Queijo mussarela\",\"Queijo gorgonzola\", \"Queijo provolone\", \"Queijo parmesão ralado\"]},\n",
    "    {\"nome\":\"Calabresa\",  \n",
    "    \"ingredientes\":[\"Molho de tomate\", \"Queijo mussarela\",\"Calabresa fatiada\", \"Cebola fatiada\"]},\n",
    "    {\"nome\":\"Frango com Catupiry\",  \n",
    "    \"ingredientes\":[\"Molho de tomate\", \"Queijo mussarela\",\"Frango desfiado temperado\", \"Catupiry (queijo cremoso)\"]},\n",
    "    {\"nome\":\"Portuguesa\", \n",
    "    \"ingredientes\":[\"Molho de tomate\", \"Queijo mussarela\",\"Presunto fatiado\",\"Ovos\",\"Cebola fatiada\",\"Pimentão fatiado\",\"Azeitonas\"]},\n",
    "    {\"nome\":\"Vegetariana\", \n",
    "    \"ingredientes\":[\"Molho de tomate\", \"Queijo mussarela\",\"Tomate fatiado\", \"Cebola fatiada\", \n",
    "                    \"Pimentão fatiado\", \"Champignon fatiado\",\"Azeitonas\"]},\n",
    "    {\"nome\":\"Caprese\", \n",
    "    \"ingredientes\":[\"Molho de tomate\", \"Queijo mussarela\",\"Tomate fatiado\", \"Folhas frescas de manjericão\", \n",
    "                    \"Azeite de oliva extra virgem\", \"Pimenta-do-reino\"]},\n",
    "    {\"nome\":\"\", \n",
    "    \"ingredientes\":[\"Molho de tomate\", \"Queijo mussarela\",\"\"]},\n",
    "    {\"nome\":\"\",  \n",
    "    \"ingredientes\":[\"Molho de tomate\", \"Queijo mussarela\",\"\"]},\n",
    "]\n",
    "\n",
    "# cria as pizzas de um sabor\n",
    "for _pizza in lst_pizzas:\n",
    "    # cria os sabores de pizzas para todos os tamanhos\n",
    "    for i, _tamanho in enumerate(lst_tamanhos):\n",
    "        obj = Pizza.objects.create(\n",
    "            nome = _pizza[\"nome\"] + \" \" + _tamanho.tamanho,\n",
    "            preco = lst_preco[i],\n",
    "            tamanho = _tamanho,\n",
    "        )\n",
    "        obj.save()\n",
    "\n",
    "        # adiciona os ingredientes\n",
    "        for _ingrediente in _pizza[\"ingredientes\"]:\n",
    "            composicao.objects.create(\n",
    "                fk_pizza = obj,\n",
    "                fk_ingredientes = Ingrediente.objects.get(nome=_ingrediente)\n",
    "            )\n",
    "print(f\"Depois: {Pizza.objects.all().count()}\")"
   ]
  }
 ],
 "metadata": {
  "kernelspec": {
   "display_name": "Python 3 (ipykernel)",
   "language": "python",
   "name": "python3"
  },
  "language_info": {
   "codemirror_mode": {
    "name": "ipython",
    "version": 3
   },
   "file_extension": ".py",
   "mimetype": "text/x-python",
   "name": "python",
   "nbconvert_exporter": "python",
   "pygments_lexer": "ipython3",
   "version": "3.11.2"
  }
 },
 "nbformat": 4,
 "nbformat_minor": 5
}
